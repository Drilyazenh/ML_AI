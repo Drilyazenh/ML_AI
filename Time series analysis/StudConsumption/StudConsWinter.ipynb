{
 "cells": [
  {
   "cell_type": "code",
   "execution_count": 1,
   "metadata": {},
   "outputs": [],
   "source": [
    "import pandas as pd\n",
    "import numpy as np\n",
    "\n",
    "%matplotlib inline"
   ]
  },
  {
   "cell_type": "code",
   "execution_count": 2,
   "metadata": {},
   "outputs": [],
   "source": [
    "%run f2forecast.py"
   ]
  },
  {
   "cell_type": "code",
   "execution_count": 3,
   "metadata": {},
   "outputs": [
    {
     "data": {
      "text/html": [
       "<div>\n",
       "<style scoped>\n",
       "    .dataframe tbody tr th:only-of-type {\n",
       "        vertical-align: middle;\n",
       "    }\n",
       "\n",
       "    .dataframe tbody tr th {\n",
       "        vertical-align: top;\n",
       "    }\n",
       "\n",
       "    .dataframe thead th {\n",
       "        text-align: right;\n",
       "    }\n",
       "</style>\n",
       "<table border=\"1\" class=\"dataframe\">\n",
       "  <thead>\n",
       "    <tr style=\"text-align: right;\">\n",
       "      <th></th>\n",
       "      <th>Unnamed: 0</th>\n",
       "      <th>Data</th>\n",
       "      <th>Потребление</th>\n",
       "      <th>Ставка</th>\n",
       "      <th>Температура</th>\n",
       "      <th>Время</th>\n",
       "    </tr>\n",
       "  </thead>\n",
       "  <tbody>\n",
       "    <tr>\n",
       "      <th>0</th>\n",
       "      <td>0</td>\n",
       "      <td>2017-12-01 00:00:00</td>\n",
       "      <td>19.824</td>\n",
       "      <td>2369.47</td>\n",
       "      <td>-13.4</td>\n",
       "      <td>0</td>\n",
       "    </tr>\n",
       "    <tr>\n",
       "      <th>1</th>\n",
       "      <td>1</td>\n",
       "      <td>2017-12-01 01:00:00</td>\n",
       "      <td>21.768</td>\n",
       "      <td>2377.11</td>\n",
       "      <td>-13.4</td>\n",
       "      <td>1</td>\n",
       "    </tr>\n",
       "    <tr>\n",
       "      <th>2</th>\n",
       "      <td>2</td>\n",
       "      <td>2017-12-01 02:00:00</td>\n",
       "      <td>28.272</td>\n",
       "      <td>2383.17</td>\n",
       "      <td>-13.4</td>\n",
       "      <td>2</td>\n",
       "    </tr>\n",
       "    <tr>\n",
       "      <th>3</th>\n",
       "      <td>3</td>\n",
       "      <td>2017-12-01 03:00:00</td>\n",
       "      <td>26.592</td>\n",
       "      <td>2387.40</td>\n",
       "      <td>-12.1</td>\n",
       "      <td>3</td>\n",
       "    </tr>\n",
       "    <tr>\n",
       "      <th>4</th>\n",
       "      <td>4</td>\n",
       "      <td>2017-12-01 04:00:00</td>\n",
       "      <td>30.048</td>\n",
       "      <td>2398.73</td>\n",
       "      <td>-12.1</td>\n",
       "      <td>4</td>\n",
       "    </tr>\n",
       "  </tbody>\n",
       "</table>\n",
       "</div>"
      ],
      "text/plain": [
       "   Unnamed: 0                Data  Потребление   Ставка  Температура  Время\n",
       "0           0 2017-12-01 00:00:00       19.824  2369.47        -13.4      0\n",
       "1           1 2017-12-01 01:00:00       21.768  2377.11        -13.4      1\n",
       "2           2 2017-12-01 02:00:00       28.272  2383.17        -13.4      2\n",
       "3           3 2017-12-01 03:00:00       26.592  2387.40        -12.1      3\n",
       "4           4 2017-12-01 04:00:00       30.048  2398.73        -12.1      4"
      ]
     },
     "execution_count": 3,
     "metadata": {},
     "output_type": "execute_result"
    }
   ],
   "source": [
    "df=pd.read_excel(\"DatWinterValid.xlsx\")\n",
    "df.head()"
   ]
  },
  {
   "cell_type": "code",
   "execution_count": 39,
   "metadata": {},
   "outputs": [
    {
     "name": "stdout",
     "output_type": "stream",
     "text": [
      "217   2017-12-10 01:00:00\n",
      "218   2017-12-10 02:00:00\n",
      "219   2017-12-10 03:00:00\n",
      "220   2017-12-10 04:00:00\n",
      "221   2017-12-10 05:00:00\n",
      "              ...        \n",
      "331   2017-12-14 19:00:00\n",
      "332   2017-12-14 20:00:00\n",
      "333   2017-12-14 21:00:00\n",
      "334   2017-12-14 22:00:00\n",
      "335   2017-12-14 23:00:00\n",
      "Name: Data, Length: 119, dtype: datetime64[ns]\n"
     ]
    }
   ],
   "source": [
    "ConsWith = []\n",
    "Stav = []\n",
    "WorkOrHolid = []\n",
    "\n",
    "for i in range(len(df[\"Ставка\"])):\n",
    "    ConsWith.append(df['Потребление'][i])\n",
    "    Stav.append(df['Ставка'][i])\n",
    "    #if((i<47) or (96<i<216) or (264<i<384) or (432<i<552) or (600<i<700)):\n",
    "        #WorkOrHolid.append(1)\n",
    "    #else:\n",
    "        #WorkOrHolid.append(0)\n",
    "print(df[\"Data\"][217:336])\n",
    "#Cons without holiyday\n",
    "FirstWeek = ConsWith[0:24];\n",
    "#WeekendsFirstWeek = [24:48];\n",
    "SecondWeek = ConsWith[48:168];\n",
    "#WeekendsSecondWeek = [168:216];\n",
    "ThirdWeek = ConsWith[216:336];\n",
    "#WeekendsThirdWeek = [336:384];\n",
    "FourWeek = ConsWith[384:504];\n",
    "#WeekendsFourWeek = [504:552];\n",
    "FiveWeek = ConsWith[552:672];\n",
    "#WeekendsFiveWeek = ConsWith[672:720];\n",
    "LastWeek = ConsWith[720:744];\n",
    "Cons = FirstWeek + SecondWeek + ThirdWeek + FourWeek + FiveWeek + LastWeek;\n"
   ]
  },
  {
   "cell_type": "code",
   "execution_count": null,
   "metadata": {},
   "outputs": [],
   "source": []
  }
 ],
 "metadata": {
  "kernelspec": {
   "display_name": "Python 3",
   "language": "python",
   "name": "python3"
  },
  "language_info": {
   "codemirror_mode": {
    "name": "ipython",
    "version": 3
   },
   "file_extension": ".py",
   "mimetype": "text/x-python",
   "name": "python",
   "nbconvert_exporter": "python",
   "pygments_lexer": "ipython3",
   "version": "3.7.6"
  }
 },
 "nbformat": 4,
 "nbformat_minor": 4
}
