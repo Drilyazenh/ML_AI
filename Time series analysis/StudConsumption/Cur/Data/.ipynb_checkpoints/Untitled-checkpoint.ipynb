{
 "cells": [
  {
   "cell_type": "code",
   "execution_count": 202,
   "metadata": {},
   "outputs": [],
   "source": [
    "from datetime import datetime, timedelta\n",
    "import pandas as pd\n",
    "import numpy as np\n",
    "\n",
    "%matplotlib inline\n",
    "%run f2forecast.py\n",
    "import xlwings as xw"
   ]
  },
  {
   "cell_type": "code",
   "execution_count": 390,
   "metadata": {},
   "outputs": [],
   "source": [
    "df=pd.read_excel(\"Общежитие №12А декабрь 2017г..xlsx\",sheet_name='Лист1')\n"
   ]
  },
  {
   "cell_type": "code",
   "execution_count": 391,
   "metadata": {},
   "outputs": [
    {
     "data": {
      "text/html": [
       "<div>\n",
       "<style scoped>\n",
       "    .dataframe tbody tr th:only-of-type {\n",
       "        vertical-align: middle;\n",
       "    }\n",
       "\n",
       "    .dataframe tbody tr th {\n",
       "        vertical-align: top;\n",
       "    }\n",
       "\n",
       "    .dataframe thead th {\n",
       "        text-align: right;\n",
       "    }\n",
       "</style>\n",
       "<table border=\"1\" class=\"dataframe\">\n",
       "  <thead>\n",
       "    <tr style=\"text-align: right;\">\n",
       "      <th></th>\n",
       "      <th>Профиль №1 с 01.12.17 по 31.12.17</th>\n",
       "      <th>Unnamed: 1</th>\n",
       "      <th>Unnamed: 2</th>\n",
       "      <th>Unnamed: 3</th>\n",
       "      <th>Unnamed: 4</th>\n",
       "      <th>Unnamed: 5</th>\n",
       "      <th>Unnamed: 6</th>\n",
       "    </tr>\n",
       "  </thead>\n",
       "  <tbody>\n",
       "    <tr>\n",
       "      <th>0</th>\n",
       "      <td>Счетчик № 0811092688, Точка учета - Общежитие 12А</td>\n",
       "      <td>NaN</td>\n",
       "      <td>NaN</td>\n",
       "      <td>NaN</td>\n",
       "      <td>NaN</td>\n",
       "      <td>NaN</td>\n",
       "      <td>NaN</td>\n",
       "    </tr>\n",
       "    <tr>\n",
       "      <th>1</th>\n",
       "      <td>Сохранен 09.01.18 10:58:04</td>\n",
       "      <td>NaN</td>\n",
       "      <td>NaN</td>\n",
       "      <td>NaN</td>\n",
       "      <td>NaN</td>\n",
       "      <td>NaN</td>\n",
       "      <td>NaN</td>\n",
       "    </tr>\n",
       "    <tr>\n",
       "      <th>2</th>\n",
       "      <td>NaN</td>\n",
       "      <td>NaN</td>\n",
       "      <td>NaN</td>\n",
       "      <td>NaN</td>\n",
       "      <td>NaN</td>\n",
       "      <td>NaN</td>\n",
       "      <td>NaN</td>\n",
       "    </tr>\n",
       "    <tr>\n",
       "      <th>3</th>\n",
       "      <td>Дата</td>\n",
       "      <td>Время</td>\n",
       "      <td>A+, кВт</td>\n",
       "      <td>A-, кВт</td>\n",
       "      <td>R+, квар</td>\n",
       "      <td>R-, квар</td>\n",
       "      <td>Статус</td>\n",
       "    </tr>\n",
       "    <tr>\n",
       "      <th>4</th>\n",
       "      <td>2017-12-01 00:00:00</td>\n",
       "      <td>00:00-01:00</td>\n",
       "      <td>19.824</td>\n",
       "      <td>0</td>\n",
       "      <td>2.328</td>\n",
       "      <td>0</td>\n",
       "      <td>NaN</td>\n",
       "    </tr>\n",
       "  </tbody>\n",
       "</table>\n",
       "</div>"
      ],
      "text/plain": [
       "                   Профиль №1 с 01.12.17 по 31.12.17   Unnamed: 1 Unnamed: 2  \\\n",
       "0  Счетчик № 0811092688, Точка учета - Общежитие 12А          NaN        NaN   \n",
       "1                         Сохранен 09.01.18 10:58:04          NaN        NaN   \n",
       "2                                                NaN          NaN        NaN   \n",
       "3                                               Дата        Время    A+, кВт   \n",
       "4                                2017-12-01 00:00:00  00:00-01:00     19.824   \n",
       "\n",
       "  Unnamed: 3 Unnamed: 4 Unnamed: 5 Unnamed: 6  \n",
       "0        NaN        NaN        NaN        NaN  \n",
       "1        NaN        NaN        NaN        NaN  \n",
       "2        NaN        NaN        NaN        NaN  \n",
       "3    A-, кВт   R+, квар   R-, квар     Статус  \n",
       "4          0      2.328          0        NaN  "
      ]
     },
     "execution_count": 391,
     "metadata": {},
     "output_type": "execute_result"
    }
   ],
   "source": [
    "df.head()"
   ]
  },
  {
   "cell_type": "code",
   "execution_count": 392,
   "metadata": {},
   "outputs": [],
   "source": [
    "for i in range(4):\n",
    "    df = df.drop(df.index[0])"
   ]
  },
  {
   "cell_type": "code",
   "execution_count": 393,
   "metadata": {},
   "outputs": [
    {
     "data": {
      "text/html": [
       "<div>\n",
       "<style scoped>\n",
       "    .dataframe tbody tr th:only-of-type {\n",
       "        vertical-align: middle;\n",
       "    }\n",
       "\n",
       "    .dataframe tbody tr th {\n",
       "        vertical-align: top;\n",
       "    }\n",
       "\n",
       "    .dataframe thead th {\n",
       "        text-align: right;\n",
       "    }\n",
       "</style>\n",
       "<table border=\"1\" class=\"dataframe\">\n",
       "  <thead>\n",
       "    <tr style=\"text-align: right;\">\n",
       "      <th></th>\n",
       "      <th>Профиль №1 с 01.12.17 по 31.12.17</th>\n",
       "      <th>Unnamed: 1</th>\n",
       "      <th>Unnamed: 2</th>\n",
       "      <th>Unnamed: 3</th>\n",
       "      <th>Unnamed: 4</th>\n",
       "      <th>Unnamed: 5</th>\n",
       "      <th>Unnamed: 6</th>\n",
       "    </tr>\n",
       "  </thead>\n",
       "  <tbody>\n",
       "    <tr>\n",
       "      <th>4</th>\n",
       "      <td>2017-12-01 00:00:00</td>\n",
       "      <td>00:00-01:00</td>\n",
       "      <td>19.824</td>\n",
       "      <td>0</td>\n",
       "      <td>2.328</td>\n",
       "      <td>0</td>\n",
       "      <td>NaN</td>\n",
       "    </tr>\n",
       "    <tr>\n",
       "      <th>5</th>\n",
       "      <td>2017-12-01 00:00:00</td>\n",
       "      <td>01:00-02:00</td>\n",
       "      <td>21.768</td>\n",
       "      <td>0</td>\n",
       "      <td>2.208</td>\n",
       "      <td>0</td>\n",
       "      <td>NaN</td>\n",
       "    </tr>\n",
       "    <tr>\n",
       "      <th>6</th>\n",
       "      <td>2017-12-01 00:00:00</td>\n",
       "      <td>02:00-03:00</td>\n",
       "      <td>28.272</td>\n",
       "      <td>0</td>\n",
       "      <td>2.376</td>\n",
       "      <td>0</td>\n",
       "      <td>NaN</td>\n",
       "    </tr>\n",
       "    <tr>\n",
       "      <th>7</th>\n",
       "      <td>2017-12-01 00:00:00</td>\n",
       "      <td>03:00-04:00</td>\n",
       "      <td>26.592</td>\n",
       "      <td>0</td>\n",
       "      <td>2.88</td>\n",
       "      <td>0</td>\n",
       "      <td>NaN</td>\n",
       "    </tr>\n",
       "    <tr>\n",
       "      <th>8</th>\n",
       "      <td>2017-12-01 00:00:00</td>\n",
       "      <td>04:00-05:00</td>\n",
       "      <td>30.048</td>\n",
       "      <td>0</td>\n",
       "      <td>2.856</td>\n",
       "      <td>0</td>\n",
       "      <td>NaN</td>\n",
       "    </tr>\n",
       "  </tbody>\n",
       "</table>\n",
       "</div>"
      ],
      "text/plain": [
       "  Профиль №1 с 01.12.17 по 31.12.17   Unnamed: 1 Unnamed: 2 Unnamed: 3  \\\n",
       "4               2017-12-01 00:00:00  00:00-01:00     19.824          0   \n",
       "5               2017-12-01 00:00:00  01:00-02:00     21.768          0   \n",
       "6               2017-12-01 00:00:00  02:00-03:00     28.272          0   \n",
       "7               2017-12-01 00:00:00  03:00-04:00     26.592          0   \n",
       "8               2017-12-01 00:00:00  04:00-05:00     30.048          0   \n",
       "\n",
       "  Unnamed: 4 Unnamed: 5 Unnamed: 6  \n",
       "4      2.328          0        NaN  \n",
       "5      2.208          0        NaN  \n",
       "6      2.376          0        NaN  \n",
       "7       2.88          0        NaN  \n",
       "8      2.856          0        NaN  "
      ]
     },
     "execution_count": 393,
     "metadata": {},
     "output_type": "execute_result"
    }
   ],
   "source": [
    "df.head()"
   ]
  },
  {
   "cell_type": "code",
   "execution_count": 394,
   "metadata": {},
   "outputs": [],
   "source": [
    "df = df.reset_index(drop=True)"
   ]
  },
  {
   "cell_type": "code",
   "execution_count": 395,
   "metadata": {},
   "outputs": [],
   "source": [
    "Data = [];\n",
    "Cons = [];\n",
    "for i in range (len(df['Профиль №1 с 01.12.17 по 31.12.17'])):\n",
    "    Data.append(df['Профиль №1 с 01.12.17 по 31.12.17'][i]+timedelta(hours=int(df['Unnamed: 1'][i][0:2])))\n",
    "    Cons.append(df['Unnamed: 2'][i])"
   ]
  },
  {
   "cell_type": "code",
   "execution_count": 396,
   "metadata": {},
   "outputs": [],
   "source": [
    "df = pd.read_excel(\"Ставка.xlsx\",sheet_name='Лист12')"
   ]
  },
  {
   "cell_type": "code",
   "execution_count": 397,
   "metadata": {},
   "outputs": [],
   "source": [
    "Stav = []\n",
    "for i in range(len(df)):\n",
    "    for j in range(24):\n",
    "        Stav.append(df.loc[i][j])\n"
   ]
  },
  {
   "cell_type": "markdown",
   "metadata": {},
   "source": [
    "<h1>Погода"
   ]
  },
  {
   "cell_type": "code",
   "execution_count": 381,
   "metadata": {},
   "outputs": [],
   "source": [
    "df = pd.read_excel(\"30710.01.01.2017.31.12.2017.1.0.0.ru.utf8.00000000.xls\")  "
   ]
  },
  {
   "cell_type": "code",
   "execution_count": 382,
   "metadata": {},
   "outputs": [
    {
     "data": {
      "text/html": [
       "<div>\n",
       "<style scoped>\n",
       "    .dataframe tbody tr th:only-of-type {\n",
       "        vertical-align: middle;\n",
       "    }\n",
       "\n",
       "    .dataframe tbody tr th {\n",
       "        vertical-align: top;\n",
       "    }\n",
       "\n",
       "    .dataframe thead th {\n",
       "        text-align: right;\n",
       "    }\n",
       "</style>\n",
       "<table border=\"1\" class=\"dataframe\">\n",
       "  <thead>\n",
       "    <tr style=\"text-align: right;\">\n",
       "      <th></th>\n",
       "      <th>Местное время в Иркутске</th>\n",
       "      <th>T</th>\n",
       "      <th>Po</th>\n",
       "      <th>P</th>\n",
       "      <th>Pa</th>\n",
       "      <th>U</th>\n",
       "      <th>DD</th>\n",
       "      <th>Ff</th>\n",
       "      <th>ff10</th>\n",
       "      <th>ff3</th>\n",
       "      <th>...</th>\n",
       "      <th>Cm</th>\n",
       "      <th>Ch</th>\n",
       "      <th>VV</th>\n",
       "      <th>Td</th>\n",
       "      <th>RRR</th>\n",
       "      <th>tR</th>\n",
       "      <th>E</th>\n",
       "      <th>Tg</th>\n",
       "      <th>E'</th>\n",
       "      <th>sss</th>\n",
       "    </tr>\n",
       "  </thead>\n",
       "  <tbody>\n",
       "    <tr>\n",
       "      <th>0</th>\n",
       "      <td>31.12.2017 23:00</td>\n",
       "      <td>-14.4</td>\n",
       "      <td>732.3</td>\n",
       "      <td>778.7</td>\n",
       "      <td>1.3</td>\n",
       "      <td>86</td>\n",
       "      <td>Ветер, дующий с западо-северо-запада</td>\n",
       "      <td>2</td>\n",
       "      <td>NaN</td>\n",
       "      <td>NaN</td>\n",
       "      <td>...</td>\n",
       "      <td>NaN</td>\n",
       "      <td>NaN</td>\n",
       "      <td>NaN</td>\n",
       "      <td>-16.3</td>\n",
       "      <td>NaN</td>\n",
       "      <td>NaN</td>\n",
       "      <td>NaN</td>\n",
       "      <td>NaN</td>\n",
       "      <td>NaN</td>\n",
       "      <td>NaN</td>\n",
       "    </tr>\n",
       "    <tr>\n",
       "      <th>1</th>\n",
       "      <td>31.12.2017 20:00</td>\n",
       "      <td>-15.6</td>\n",
       "      <td>731.0</td>\n",
       "      <td>777.6</td>\n",
       "      <td>2.2</td>\n",
       "      <td>85</td>\n",
       "      <td>Ветер, дующий с северо-запада</td>\n",
       "      <td>2</td>\n",
       "      <td>NaN</td>\n",
       "      <td>NaN</td>\n",
       "      <td>...</td>\n",
       "      <td>NaN</td>\n",
       "      <td>NaN</td>\n",
       "      <td>NaN</td>\n",
       "      <td>-17.6</td>\n",
       "      <td>0.6</td>\n",
       "      <td>12.0</td>\n",
       "      <td>NaN</td>\n",
       "      <td>NaN</td>\n",
       "      <td>NaN</td>\n",
       "      <td>NaN</td>\n",
       "    </tr>\n",
       "    <tr>\n",
       "      <th>2</th>\n",
       "      <td>31.12.2017 17:00</td>\n",
       "      <td>-15.1</td>\n",
       "      <td>728.8</td>\n",
       "      <td>775.3</td>\n",
       "      <td>1.2</td>\n",
       "      <td>82</td>\n",
       "      <td>Ветер, дующий с северо-запада</td>\n",
       "      <td>1</td>\n",
       "      <td>NaN</td>\n",
       "      <td>NaN</td>\n",
       "      <td>...</td>\n",
       "      <td>NaN</td>\n",
       "      <td>NaN</td>\n",
       "      <td>4.0</td>\n",
       "      <td>-17.5</td>\n",
       "      <td>NaN</td>\n",
       "      <td>NaN</td>\n",
       "      <td>NaN</td>\n",
       "      <td>NaN</td>\n",
       "      <td>NaN</td>\n",
       "      <td>NaN</td>\n",
       "    </tr>\n",
       "    <tr>\n",
       "      <th>3</th>\n",
       "      <td>31.12.2017 14:00</td>\n",
       "      <td>-15.3</td>\n",
       "      <td>727.6</td>\n",
       "      <td>773.9</td>\n",
       "      <td>0.3</td>\n",
       "      <td>79</td>\n",
       "      <td>Ветер, дующий с северо-запада</td>\n",
       "      <td>1</td>\n",
       "      <td>NaN</td>\n",
       "      <td>NaN</td>\n",
       "      <td>...</td>\n",
       "      <td>Высококучевых, высокослоистых или слоисто-дожд...</td>\n",
       "      <td>Перистые (часто в виде полос) и перисто-слоист...</td>\n",
       "      <td>4.0</td>\n",
       "      <td>-18.1</td>\n",
       "      <td>NaN</td>\n",
       "      <td>NaN</td>\n",
       "      <td>NaN</td>\n",
       "      <td>NaN</td>\n",
       "      <td>NaN</td>\n",
       "      <td>NaN</td>\n",
       "    </tr>\n",
       "    <tr>\n",
       "      <th>4</th>\n",
       "      <td>31.12.2017 11:00</td>\n",
       "      <td>-17.8</td>\n",
       "      <td>727.3</td>\n",
       "      <td>774.1</td>\n",
       "      <td>0.7</td>\n",
       "      <td>84</td>\n",
       "      <td>Ветер, дующий с северо-запада</td>\n",
       "      <td>1</td>\n",
       "      <td>NaN</td>\n",
       "      <td>NaN</td>\n",
       "      <td>...</td>\n",
       "      <td>Высококучевых, высокослоистых или слоисто-дожд...</td>\n",
       "      <td>Перистые (часто в виде полос) и перисто-слоист...</td>\n",
       "      <td>10.0</td>\n",
       "      <td>-19.8</td>\n",
       "      <td>NaN</td>\n",
       "      <td>NaN</td>\n",
       "      <td>NaN</td>\n",
       "      <td>NaN</td>\n",
       "      <td>NaN</td>\n",
       "      <td>NaN</td>\n",
       "    </tr>\n",
       "  </tbody>\n",
       "</table>\n",
       "<p>5 rows × 29 columns</p>\n",
       "</div>"
      ],
      "text/plain": [
       "  Местное время в Иркутске     T     Po      P   Pa   U  \\\n",
       "0         31.12.2017 23:00 -14.4  732.3  778.7  1.3  86   \n",
       "1         31.12.2017 20:00 -15.6  731.0  777.6  2.2  85   \n",
       "2         31.12.2017 17:00 -15.1  728.8  775.3  1.2  82   \n",
       "3         31.12.2017 14:00 -15.3  727.6  773.9  0.3  79   \n",
       "4         31.12.2017 11:00 -17.8  727.3  774.1  0.7  84   \n",
       "\n",
       "                                     DD  Ff  ff10  ff3  ...  \\\n",
       "0  Ветер, дующий с западо-северо-запада   2   NaN  NaN  ...   \n",
       "1         Ветер, дующий с северо-запада   2   NaN  NaN  ...   \n",
       "2         Ветер, дующий с северо-запада   1   NaN  NaN  ...   \n",
       "3         Ветер, дующий с северо-запада   1   NaN  NaN  ...   \n",
       "4         Ветер, дующий с северо-запада   1   NaN  NaN  ...   \n",
       "\n",
       "                                                  Cm  \\\n",
       "0                                                NaN   \n",
       "1                                                NaN   \n",
       "2                                                NaN   \n",
       "3  Высококучевых, высокослоистых или слоисто-дожд...   \n",
       "4  Высококучевых, высокослоистых или слоисто-дожд...   \n",
       "\n",
       "                                                  Ch    VV    Td  RRR    tR  \\\n",
       "0                                                NaN   NaN -16.3  NaN   NaN   \n",
       "1                                                NaN   NaN -17.6  0.6  12.0   \n",
       "2                                                NaN   4.0 -17.5  NaN   NaN   \n",
       "3  Перистые (часто в виде полос) и перисто-слоист...   4.0 -18.1  NaN   NaN   \n",
       "4  Перистые (часто в виде полос) и перисто-слоист...  10.0 -19.8  NaN   NaN   \n",
       "\n",
       "     E  Tg   E'  sss  \n",
       "0  NaN NaN  NaN  NaN  \n",
       "1  NaN NaN  NaN  NaN  \n",
       "2  NaN NaN  NaN  NaN  \n",
       "3  NaN NaN  NaN  NaN  \n",
       "4  NaN NaN  NaN  NaN  \n",
       "\n",
       "[5 rows x 29 columns]"
      ]
     },
     "execution_count": 382,
     "metadata": {},
     "output_type": "execute_result"
    }
   ],
   "source": [
    "df.head()"
   ]
  },
  {
   "cell_type": "code",
   "execution_count": 383,
   "metadata": {},
   "outputs": [
    {
     "name": "stdout",
     "output_type": "stream",
     "text": [
      "8760\n"
     ]
    }
   ],
   "source": [
    "#weather \n",
    "Temp=[]\n",
    "Po = []\n",
    "P = []\n",
    "Pa = []\n",
    "U = []\n",
    "Ff = []\n",
    "i = len(df['T'])-1;\n",
    "while(i>-1):\n",
    "    Temp.append(df['T'][i])\n",
    "    Temp.append(df['T'][i])\n",
    "    Temp.append(df['T'][i])\n",
    "    Po.append(df['Po'][i])\n",
    "    Po.append(df['Po'][i])\n",
    "    Po.append(df['Po'][i])\n",
    "    P.append(df['P'][i])\n",
    "    P.append(df['P'][i])\n",
    "    P.append(df['P'][i])\n",
    "    Pa.append(df['Pa'][i])\n",
    "    Pa.append(df['Pa'][i])\n",
    "    Pa.append(df['Pa'][i])\n",
    "    U.append(df['U'][i])\n",
    "    U.append(df['U'][i])\n",
    "    U.append(df['U'][i])\n",
    "    Ff.append(df['Ff'][i])\n",
    "    Ff.append(df['Ff'][i])\n",
    "    Ff.append(df['Ff'][i])\n",
    "    i-=1\n",
    "print(len(Temp))  \n"
   ]
  },
  {
   "cell_type": "markdown",
   "metadata": {},
   "source": [
    "<h1>Заполнение ДФ"
   ]
  },
  {
   "cell_type": "code",
   "execution_count": 384,
   "metadata": {},
   "outputs": [
    {
     "name": "stdout",
     "output_type": "stream",
     "text": [
      "1464\n"
     ]
    }
   ],
   "source": [
    "Temp=Temp[7296:8760]\n",
    "Po = Po[7296:8760]\n",
    "P = P[7296:8760]\n",
    "Pa = Pa[7296:8760]\n",
    "U = U[7296:8760]\n",
    "Ff = Ff[7296:8760]\n",
    "print(len(Temp))"
   ]
  },
  {
   "cell_type": "code",
   "execution_count": 398,
   "metadata": {},
   "outputs": [
    {
     "name": "stdout",
     "output_type": "stream",
     "text": [
      "744\n",
      "0\n"
     ]
    }
   ],
   "source": [
    "#weather for current mounth\n",
    "Tempc=Temp[0:len(Cons)]\n",
    "Poc = Po[0:len(Cons)]\n",
    "Pc = P[0:len(Cons)]\n",
    "Pac = Pa[0:len(Cons)]\n",
    "Uc = U[0:len(Cons)]\n",
    "Ffc = Ff[0:len(Cons)];\n",
    "#for i in range(len(Cons)):\n",
    "  #  Tempc[i]=Temp.pop([i])\n",
    "   # Poc.append(Po.pop([i]))\n",
    "  #  Pc.append(P.pop([i]))\n",
    "  #  Pac.append(Pa.pop([i]))\n",
    "  #  Uc.append(U.pop([i]))\n",
    "  #  Ffc.append(Ff.pop([i]))\n",
    "print(len(Temp))\n",
    "del Temp[0:len(Cons)]\n",
    "del Po[0:len(Cons)]\n",
    "del P[0:len(Cons)]\n",
    "del Pa[0:len(Cons)]\n",
    "del U[0:len(Cons)]\n",
    "del Ff[0:len(Cons)]\n",
    "print(len(Temp))\n",
    "    \n",
    "    \n",
    "    \n",
    "    "
   ]
  },
  {
   "cell_type": "code",
   "execution_count": 399,
   "metadata": {},
   "outputs": [
    {
     "name": "stdout",
     "output_type": "stream",
     "text": [
      "744 744 744 744 744\n"
     ]
    }
   ],
   "source": [
    "print(len(Uc),len(Poc),len(Data),len(Cons),len(Stav))"
   ]
  },
  {
   "cell_type": "code",
   "execution_count": 400,
   "metadata": {},
   "outputs": [],
   "source": [
    "df = pd.DataFrame({'Data': Data, \n",
    "                   'Потребление':Cons , \n",
    "                   \"Ставка\":Stav,\n",
    "                    \"T\":  Tempc,\n",
    "                    \"Po \": Poc,\n",
    "                   \" P \":  Pc,\n",
    "                    \"Pa \": Pac,\n",
    "                   \" U \":  Uc,\n",
    "                    \"Ff \": Ffc})"
   ]
  },
  {
   "cell_type": "code",
   "execution_count": 401,
   "metadata": {},
   "outputs": [],
   "source": [
    "df.to_excel(\"Декабрь.xlsx\")  "
   ]
  },
  {
   "cell_type": "code",
   "execution_count": 402,
   "metadata": {},
   "outputs": [
    {
     "name": "stdout",
     "output_type": "stream",
     "text": [
      "0     2017-12-01 00:00:00\n",
      "1     2017-12-01 01:00:00\n",
      "2     2017-12-01 02:00:00\n",
      "3     2017-12-01 03:00:00\n",
      "4     2017-12-01 04:00:00\n",
      "              ...        \n",
      "739   2017-12-31 19:00:00\n",
      "740   2017-12-31 20:00:00\n",
      "741   2017-12-31 21:00:00\n",
      "742   2017-12-31 22:00:00\n",
      "743   2017-12-31 23:00:00\n",
      "Name: Data, Length: 744, dtype: datetime64[ns]\n"
     ]
    }
   ],
   "source": [
    "print(df['Data'])"
   ]
  },
  {
   "cell_type": "code",
   "execution_count": null,
   "metadata": {},
   "outputs": [],
   "source": []
  }
 ],
 "metadata": {
  "kernelspec": {
   "display_name": "Python 3",
   "language": "python",
   "name": "python3"
  },
  "language_info": {
   "codemirror_mode": {
    "name": "ipython",
    "version": 3
   },
   "file_extension": ".py",
   "mimetype": "text/x-python",
   "name": "python",
   "nbconvert_exporter": "python",
   "pygments_lexer": "ipython3",
   "version": "3.7.6"
  }
 },
 "nbformat": 4,
 "nbformat_minor": 4
}
